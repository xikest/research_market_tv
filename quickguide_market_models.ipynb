{
 "cells": [
  {
   "cell_type": "markdown",
   "id": "1f063cfb",
   "metadata": {
    "id": "1f063cfb"
   },
   "source": [
    "QuickGuide for marketmodels\n",
    "\n",
    "[프로젝트 페이지: Research-on-the-TV-market](https://github.com/xikest/research-market-tv)"
   ]
  },
  {
   "cell_type": "markdown",
   "id": "30216803",
   "metadata": {
    "id": "30216803"
   },
   "source": [
    "# Env setting: Install Colab selenium & crome driver"
   ]
  },
  {
   "cell_type": "code",
   "execution_count": null,
   "id": "a25efe6b-4cbe-49d6-83be-f55507d47a90",
   "metadata": {
    "id": "a25efe6b-4cbe-49d6-83be-f55507d47a90"
   },
   "outputs": [],
   "source": [
    "!pip install -U openpyxl tqdm --q\n",
    "!pip install -U requests selenium beautifulsoup4 --q\n",
    "!pip install -U matplotlib seaborn --q\n",
    "!pip install -U xik_tools mkt-retv --q\n",
    "!pip install playwright --q"
   ]
  },
  {
   "cell_type": "markdown",
   "id": "6e1cbb67",
   "metadata": {
    "id": "6e1cbb67"
   },
   "source": [
    "# Import Package"
   ]
  },
  {
   "cell_type": "code",
   "execution_count": null,
   "id": "8e611f88",
   "metadata": {
    "id": "8e611f88"
   },
   "outputs": [],
   "source": [
    "from market_research.scraper import Specscraper_s, Specscraper_sjp, Specscraper_s_g\n",
    "from market_research.scraper import Specscraper_l, Specscraper_l_g\n",
    "from market_research.scraper import Specscraper_se, Specscraper_se_g\n",
    "from market_research.scraper import Specscraper_p, Specscraper_pjp\n",
    "from market_research.scraper import Specscraper_t\n",
    "from market_research.scraper import DataVisualizer\n",
    "from tools.file import GitMgt\n",
    "from datetime import datetime\n",
    "import logging\n",
    "import asyncio"
   ]
  },
  {
   "cell_type": "markdown",
   "id": "8e37db89-b7bf-4c61-8e74-6d5aa412001a",
   "metadata": {
    "id": "8e37db89-b7bf-4c61-8e74-6d5aa412001a"
   },
   "source": [
    "# 실행"
   ]
  },
  {
   "cell_type": "code",
   "execution_count": null,
   "id": "9b81ab00-c1ae-43a1-b4dd-60f37beb2031",
   "metadata": {
    "id": "9b81ab00-c1ae-43a1-b4dd-60f37beb2031"
   },
   "outputs": [],
   "source": [
    "git_token = None\n",
    "git_repo = None"
   ]
  },
  {
   "cell_type": "code",
   "execution_count": null,
   "id": "5c7f20e4-30d6-4614-9905-3ee0b36c07a9",
   "metadata": {
    "id": "9b81ab00-c1ae-43a1-b4dd-60f37beb2031"
   },
   "outputs": [],
   "source": [
    "owner = None\n",
    "repo = None\n",
    "folder_path = None"
   ]
  },
  {
   "cell_type": "code",
   "execution_count": null,
   "id": "0e4864b5-ce27-4dc0-9005-e9bf9aa5419f",
   "metadata": {
    "id": "0e4864b5-ce27-4dc0-9005-e9bf9aa5419f"
   },
   "outputs": [],
   "source": [
    "today = datetime.now().strftime(\"%y%m%d\")"
   ]
  },
  {
   "cell_type": "markdown",
   "id": "03af03c9-3a93-4c18-a45c-889fd86e98cc",
   "metadata": {
    "id": "03af03c9-3a93-4c18-a45c-889fd86e98cc"
   },
   "source": [
    "## sonyspec_tv"
   ]
  },
  {
   "cell_type": "code",
   "execution_count": 1,
   "id": "31334444-18bc-4606-8d8f-df8d3e86f13a",
   "metadata": {
    "id": "31334444-18bc-4606-8d8f-df8d3e86f13a",
    "outputId": "5f04a897-62cc-473d-a92f-0a6241db8e93"
   },
   "outputs": [],
   "source": [
    "scraper_s = Specscraper_s()\n",
    "df = scraper_s.fetch_model_data()\n",
    "df.head(1)"
   ]
  },
  {
   "cell_type": "code",
   "execution_count": null,
   "id": "d71d554e-09c8-410b-a4ac-23ecedd43f0c",
   "metadata": {
    "id": "d71d554e-09c8-410b-a4ac-23ecedd43f0c"
   },
   "outputs": [],
   "source": [
    "try:\n",
    "    GitMgt.upload_json_to_github(df,  git_token, git_repo, file_name=f\"json/s_scrape_model_data_{today}\" )\n",
    "except Exception as e:\n",
    "    print(e)"
   ]
  },
  {
   "cell_type": "markdown",
   "id": "a497419e-3bcf-4cd5-b384-58e07af3f60a",
   "metadata": {},
   "source": [
    "## sonyspec_g"
   ]
  },
  {
   "cell_type": "code",
   "execution_count": null,
   "id": "fb4ab32d-4368-4e3d-903f-653ccc340ef7",
   "metadata": {},
   "outputs": [],
   "source": [
    "scraper_s_g = Specscraper_s_g()\n",
    "df = scraper_s_g.fetch_model_data()\n",
    "df.head(1)"
   ]
  },
  {
   "cell_type": "code",
   "execution_count": null,
   "id": "c8941168-38cb-47c2-85aa-7305e582bdf7",
   "metadata": {},
   "outputs": [],
   "source": [
    "try:\n",
    "    GitMgt.upload_json_to_github(df,  git_token, git_repo, file_name=f\"json/s_g_scrape_model_data_{today}\" )\n",
    "except Exception as e:\n",
    "    print(e)"
   ]
  },
  {
   "cell_type": "markdown",
   "id": "f652d259-3bc0-45e7-bb79-e09de80b4b6a",
   "metadata": {
    "id": "f652d259-3bc0-45e7-bb79-e09de80b4b6a"
   },
   "source": [
    "## lgespec_tv"
   ]
  },
  {
   "cell_type": "code",
   "execution_count": 2,
   "id": "26151fab-8ecb-4cc9-9529-ce81e09a782e",
   "metadata": {
    "id": "26151fab-8ecb-4cc9-9529-ce81e09a782e",
    "outputId": "dd5cc5a2-12df-4837-ef46-6b2dd2b944a1"
   },
   "outputs": [],
   "source": [
    "scraper_l = Specscraper_l()\n",
    "df = scraper_l.fetch_model_data()\n",
    "df.head(1)"
   ]
  },
  {
   "cell_type": "code",
   "execution_count": null,
   "id": "8d236e5e-eb0c-4786-9662-4068c1c6967c",
   "metadata": {
    "id": "8d236e5e-eb0c-4786-9662-4068c1c6967c"
   },
   "outputs": [],
   "source": [
    "try:\n",
    "    GitMgt.upload_json_to_github(df,  git_token, git_repo, file_name=f\"json/l_scrape_model_data_{today}\" )\n",
    "except Exception as e:\n",
    "    print(e)"
   ]
  },
  {
   "cell_type": "markdown",
   "id": "0cf420de-a957-437b-91eb-ef7a03d87f79",
   "metadata": {},
   "source": [
    "## lgespec_g"
   ]
  },
  {
   "cell_type": "code",
   "execution_count": null,
   "id": "3066965b-c144-42d8-8f2a-b82d4b6264d2",
   "metadata": {},
   "outputs": [],
   "source": [
    "scraper_l_g = Specscraper_l_g()\n",
    "df = scraper_l_g.fetch_model_data()\n",
    "df.head(1)"
   ]
  },
  {
   "cell_type": "code",
   "execution_count": null,
   "id": "b04d539b-47fe-40a1-aae8-8e8771dc6c92",
   "metadata": {},
   "outputs": [],
   "source": [
    "try:\n",
    "    GitMgt.upload_json_to_github(df,  git_token, git_repo, file_name=f\"json/l_g_scrape_model_data_{today}\" )\n",
    "except Exception as e:\n",
    "    print(e)"
   ]
  },
  {
   "cell_type": "markdown",
   "id": "eec2160a-ccbd-4e23-9c62-32c0cfd15482",
   "metadata": {
    "id": "eec2160a-ccbd-4e23-9c62-32c0cfd15482"
   },
   "source": [
    "## sse_spec_tv"
   ]
  },
  {
   "cell_type": "code",
   "execution_count": 3,
   "id": "7e08d9a5-ddaf-4504-aaf6-0590b095cbd0",
   "metadata": {
    "id": "7e08d9a5-ddaf-4504-aaf6-0590b095cbd0",
    "outputId": "e677f826-6377-4055-b2f0-725254991cd8",
    "scrolled": true
   },
   "outputs": [],
   "source": [
    "scraper_se = Specscraper_se(verbose=True)\n",
    "df = await scraper_se.fetch_model_data()\n",
    "df.head(1)"
   ]
  },
  {
   "cell_type": "code",
   "execution_count": null,
   "id": "e8bbaafb-d983-49d4-9325-7e5939503070",
   "metadata": {
    "id": "e8bbaafb-d983-49d4-9325-7e5939503070"
   },
   "outputs": [],
   "source": [
    "try:\n",
    "    GitMgt.upload_json_to_github(df,  git_token, git_repo, file_name=f\"json/se_scrape_model_data_{today}\" )\n",
    "except Exception as e:\n",
    "    print(e)"
   ]
  },
  {
   "cell_type": "markdown",
   "id": "772b76b3-4174-492d-a272-dc95eedac691",
   "metadata": {},
   "source": [
    "## sse_spec_g"
   ]
  },
  {
   "cell_type": "code",
   "execution_count": null,
   "id": "41350c61-171b-46ac-881d-71030f14fa7f",
   "metadata": {},
   "outputs": [],
   "source": [
    "scraper_se_g = Specscraper_se_g()\n",
    "df = scraper_se_g.fetch_model_data()\n",
    "df.head(1)"
   ]
  },
  {
   "cell_type": "code",
   "execution_count": null,
   "id": "6f3710f2-74c7-46d1-976d-395d8768843a",
   "metadata": {},
   "outputs": [],
   "source": [
    "try:\n",
    "    GitMgt.upload_json_to_github(df,  git_token, git_repo, file_name=f\"json/se_g_scrape_model_data_{today}\" )\n",
    "except Exception as e:\n",
    "    print(e)"
   ]
  },
  {
   "cell_type": "markdown",
   "id": "012fbc6e-9a24-4c73-bb4f-edd383d7fda9",
   "metadata": {
    "id": "012fbc6e-9a24-4c73-bb4f-edd383d7fda9"
   },
   "source": [
    "## panasonic_spec_tv"
   ]
  },
  {
   "cell_type": "code",
   "execution_count": null,
   "id": "KPTXygM7iGYk",
   "metadata": {
    "id": "KPTXygM7iGYk"
   },
   "outputs": [],
   "source": [
    "scraper_p = Specscraper_p()\n",
    "df = scraper_p.fetch_model_data()\n",
    "df.head(1)"
   ]
  },
  {
   "cell_type": "code",
   "execution_count": null,
   "id": "8QBcaJ7biGbz",
   "metadata": {
    "id": "8QBcaJ7biGbz"
   },
   "outputs": [],
   "source": [
    "try:\n",
    "    GitMgt.upload_json_to_github(df,  git_token, git_repo, file_name=f\"json/p_scrape_model_data_{today}\" )\n",
    "except Exception as e:\n",
    "    print(e)"
   ]
  },
  {
   "cell_type": "markdown",
   "id": "96d53df8-76f5-4a29-a715-7ad08d5e08ca",
   "metadata": {},
   "source": [
    "## tcl_spec_tv"
   ]
  },
  {
   "cell_type": "code",
   "execution_count": null,
   "id": "fda81636-9929-4c28-98dd-b9dad09bf85a",
   "metadata": {},
   "outputs": [],
   "source": [
    "scraper_t = Specscraper_t()\n",
    "df = scraper_t.fetch_model_data()\n",
    "df.head(1)"
   ]
  },
  {
   "cell_type": "code",
   "execution_count": null,
   "id": "65913f6e-d935-410f-a507-573c05edfa68",
   "metadata": {},
   "outputs": [],
   "source": [
    "try:\n",
    "    GitMgt.upload_json_to_github(df,  git_token, git_repo, file_name=f\"json/t_scrape_model_data_{today}\" )\n",
    "except Exception as e:\n",
    "    print(e)"
   ]
  },
  {
   "cell_type": "markdown",
   "id": "e2511087-6ff4-49f5-b1b7-f473f046a9eb",
   "metadata": {
    "id": "e2511087-6ff4-49f5-b1b7-f473f046a9eb",
    "jp-MarkdownHeadingCollapsed": true
   },
   "source": [
    "## sonyspec_jp"
   ]
  },
  {
   "cell_type": "code",
   "execution_count": null,
   "id": "2d8d6f42-9486-45a0-8514-0ba41e3b4e4d",
   "metadata": {
    "id": "2d8d6f42-9486-45a0-8514-0ba41e3b4e4d"
   },
   "outputs": [],
   "source": [
    "scraper_sjp = Specscraper_sjp()\n",
    "df_sjp_models = scraper_sjp.get_models_info()"
   ]
  },
  {
   "cell_type": "markdown",
   "id": "45f391a7-a11a-42d4-a47a-f49cdb19b543",
   "metadata": {
    "id": "45f391a7-a11a-42d4-a47a-f49cdb19b543"
   },
   "source": [
    "## panasonicspec_jp (under repair)"
   ]
  },
  {
   "cell_type": "code",
   "execution_count": null,
   "id": "043da2e6-e206-4a28-b982-c87f2cbfe0e0",
   "metadata": {
    "id": "043da2e6-e206-4a28-b982-c87f2cbfe0e0"
   },
   "outputs": [],
   "source": [
    "scraper_pjp = Specscraper_pjp()\n",
    "df_pjp_models = scraper_pjp.get_models_info()"
   ]
  },
  {
   "cell_type": "markdown",
   "id": "52bec6ef-28e6-4320-911b-ecf402534e81",
   "metadata": {},
   "source": [
    "# 파일 읽기"
   ]
  },
  {
   "cell_type": "code",
   "execution_count": null,
   "id": "0bae8158-d642-4bd1-bba9-bdad5a50d508",
   "metadata": {},
   "outputs": [],
   "source": [
    "files_dict = GitMgt.get_github_files_as_dict(owner, repo, folder_path)\n",
    "try:\n",
    "    GitMgt.upload_json_to_github(files_dict,  git_token, git_repo, file_name=f\"json/stream_data_list\" )\n",
    "except Exception as e:\n",
    "    print(e)"
   ]
  },
  {
   "cell_type": "markdown",
   "id": "1cd68dd3",
   "metadata": {
    "id": "1cd68dd3"
   },
   "source": [
    "# colab에서 파일 받기"
   ]
  },
  {
   "cell_type": "code",
   "execution_count": null,
   "id": "6b6f31bc-00ae-4f77-aeb4-c566532aaa0b",
   "metadata": {
    "id": "6b6f31bc-00ae-4f77-aeb4-c566532aaa0b"
   },
   "outputs": [],
   "source": [
    "from google.colab import files\n",
    "!zip -r /content/results.zip /content/results\n",
    "files.download('/content/results.zip')"
   ]
  },
  {
   "cell_type": "markdown",
   "id": "22e7d3b1",
   "metadata": {
    "id": "22e7d3b1"
   },
   "source": [
    "---"
   ]
  }
 ],
 "metadata": {
  "colab": {
   "provenance": []
  },
  "kernelspec": {
   "display_name": "Python 3 (ipykernel)",
   "language": "python",
   "name": "python3"
  },
  "language_info": {
   "codemirror_mode": {
    "name": "ipython",
    "version": 3
   },
   "file_extension": ".py",
   "mimetype": "text/x-python",
   "name": "python",
   "nbconvert_exporter": "python",
   "pygments_lexer": "ipython3",
   "version": "3.10.14"
  },
  "toc": {
   "base_numbering": 1,
   "nav_menu": {},
   "number_sections": true,
   "sideBar": true,
   "skip_h1_title": false,
   "title_cell": "Table of Contents",
   "title_sidebar": "Contents",
   "toc_cell": false,
   "toc_position": {},
   "toc_section_display": true,
   "toc_window_display": false
  }
 },
 "nbformat": 4,
 "nbformat_minor": 5
}
